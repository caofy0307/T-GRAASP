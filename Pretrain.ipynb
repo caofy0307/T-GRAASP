{
 "cells": [
  {
   "cell_type": "code",
   "execution_count": 1,
   "metadata": {},
   "outputs": [
    {
     "name": "stdout",
     "output_type": "stream",
     "text": [
      "Loading sample Young1 \n",
      "Loading sample Mid1 \n",
      "Loading sample Old1 \n",
      "Loading sample Young2 \n",
      "Loading sample Mid2 \n",
      "Loading sample Old2 \n"
     ]
    }
   ],
   "source": [
    "import os\n",
    "os.chdir(\"/shareN/data8/SwapTmp/fy/Spatial/ARGA-ARVGA/Data/Visium/raw/T-GRAASP/\")\n",
    "import torch\n",
    "from models import STx_ARGVA, STx_encoder, STx_discriminator\n",
    "from utils import *\n",
    "from train import Trainer\n",
    "\n",
    "# sample_ids = ['CAQSC','WYYBT','XXGBT','ZWFBT','ZWJBT']\n",
    "sample_ids = ['Young1','Mid1','Old1','Young2', 'Mid2',  'Old2']\n",
    "# sample_ids = ['Young1']\n",
    "raw_dir = '/shareN/data8/SwapTmp/fy/Spatial/ARGA-ARVGA/Data/Visium/raw'\n",
    "test_ratio = 0.1\n",
    "\n",
    "\n",
    "sp_graph_list, sp_adj_list = SGEDataset(sample_ids, raw_dir, test_ratio=0.10)\n",
    "# sc_graph_list = SGEDataset1(sample_ids, raw_dir)\n",
    "\n",
    "N_nodes   = sp_graph_list[0].x.size(0)   # 节点个数\n",
    "F_inputs  = sp_graph_list[0].x.size(1)   \n",
    "\n",
    "ppi_file     = f'{raw_dir}/PPI1.connect.txt'\n",
    "connectivity = load_ppi_connectivity(ppi_file, F_inputs)    # shape = [2, E]\n",
    "\n",
    "\n"
   ]
  },
  {
   "cell_type": "code",
   "execution_count": 2,
   "metadata": {},
   "outputs": [],
   "source": [
    "encoder = STx_encoder(\n",
    "    in_channels      = F_inputs,        \n",
    "    hidden_channels  = 96,\n",
    "    out_channels     = 16,\n",
    "    m = 29, l = 3, K = 3,\n",
    "    connect = connectivity,        \n",
    "    pi = 0.75,\n",
    "    n_heads = 8,\n",
    "    activate_sc_alignment=False\n",
    ")\n",
    "\n",
    "discriminator = STx_discriminator(\n",
    "    in_channels     = 16,  \n",
    "    hidden_channels = 8,   \n",
    "    out_channels    = 1\n",
    ")\n",
    "\n",
    "model = STx_ARGVA(\n",
    "    encoder      = encoder,\n",
    "    discriminator= discriminator,\n",
    "    l            = 3          \n",
    ")"
   ]
  },
  {
   "cell_type": "code",
   "execution_count": 3,
   "metadata": {},
   "outputs": [],
   "source": [
    "from torch.utils.data import DataLoader\n",
    "train_loader = DataLoader(sp_graph_list, batch_size=1, shuffle=True)"
   ]
  },
  {
   "cell_type": "code",
   "execution_count": 19,
   "metadata": {},
   "outputs": [
    {
     "data": {
      "text/plain": [
       "[Data(x=[2573, 2673], y=[2573], train_edge_index=[2, 9042], test_edge_index=[2, 1004], pos_edge=[10046, 2], neg_edge=[2, 1004], train_edge_weight=[9042], test_edge_weight=[1004], batch=[2573]),\n",
       " Data(x=[2735, 2673], y=[2735], train_edge_index=[2, 9630], test_edge_index=[2, 1069], pos_edge=[10699, 2], neg_edge=[2, 1069], train_edge_weight=[9630], test_edge_weight=[1069], batch=[2735]),\n",
       " Data(x=[2973, 2673], y=[2973], train_edge_index=[2, 10495], test_edge_index=[2, 1166], pos_edge=[11661, 2], neg_edge=[2, 1166], train_edge_weight=[10495], test_edge_weight=[1166], batch=[2973]),\n",
       " Data(x=[2804, 2673], y=[2804], train_edge_index=[2, 9883], test_edge_index=[2, 1098], pos_edge=[10981, 2], neg_edge=[2, 1098], train_edge_weight=[9883], test_edge_weight=[1098], batch=[2804]),\n",
       " Data(x=[2801, 2673], y=[2801], train_edge_index=[2, 9874], test_edge_index=[2, 1097], pos_edge=[10971, 2], neg_edge=[2, 1097], train_edge_weight=[9874], test_edge_weight=[1097], batch=[2801]),\n",
       " Data(x=[2857, 2673], y=[2857], train_edge_index=[2, 10088], test_edge_index=[2, 1120], pos_edge=[11208, 2], neg_edge=[2, 1120], train_edge_weight=[10088], test_edge_weight=[1120], batch=[2857])]"
      ]
     },
     "execution_count": 19,
     "metadata": {},
     "output_type": "execute_result"
    }
   ],
   "source": [
    "sp_graph_list"
   ]
  },
  {
   "cell_type": "code",
   "execution_count": 5,
   "metadata": {},
   "outputs": [
    {
     "name": "stdout",
     "output_type": "stream",
     "text": [
      "=== Data Structure Debug Info ===\n",
      "Number of datasets: 3\n",
      "Start Pretrain...\n",
      "[Pretrain] Epoch 001 | Dataset 0 | Loss 18.4469 | ARI 0.245 | ACC 0.398 | NMI 0.464 | AUC 0.553 | AP 0.580 | ACC1 0.502\n",
      "[Pretrain] Epoch 001 | Dataset 1 | Loss 18.6884 | ARI 0.194 | ACC 0.351 | NMI 0.441 | AUC 0.659 | AP 0.668 | ACC1 0.542\n",
      "[Pretrain] Epoch 001 | Dataset 2 | Loss 18.6475 | ARI 0.192 | ACC 0.351 | NMI 0.424 | AUC 0.638 | AP 0.654 | ACC1 0.574\n",
      "The best mean AUROC is 0.6165, Epoch 1）\n",
      "Epoch 1\n",
      "Average Loss across all datasets: 18.5943\n",
      "Mean AUC across all datasets: 0.6165 | Best Mean: 0.6165 (Epoch 1)\n",
      "[Pretrain] Epoch 002 | Dataset 0 | Loss 25.4324 | ARI 0.247 | ACC 0.400 | NMI 0.475 | AUC 0.624 | AP 0.645 | ACC1 0.561\n",
      "[Pretrain] Epoch 002 | Dataset 1 | Loss 18.4577 | ARI 0.196 | ACC 0.354 | NMI 0.441 | AUC 0.666 | AP 0.675 | ACC1 0.575\n",
      "[Pretrain] Epoch 002 | Dataset 2 | Loss 18.4079 | ARI 0.195 | ACC 0.357 | NMI 0.429 | AUC 0.684 | AP 0.651 | ACC1 0.511\n",
      "The best mean AUROC is 0.6579, Epoch 2）\n",
      "Epoch 2\n",
      "Average Loss across all datasets: 20.7660\n",
      "Mean AUC across all datasets: 0.6579 | Best Mean: 0.6579 (Epoch 2)\n",
      "[Pretrain] Epoch 003 | Dataset 0 | Loss 20.6811 | ARI 0.252 | ACC 0.404 | NMI 0.479 | AUC 0.702 | AP 0.673 | ACC1 0.542\n",
      "[Pretrain] Epoch 003 | Dataset 1 | Loss 18.2610 | ARI 0.203 | ACC 0.358 | NMI 0.448 | AUC 0.652 | AP 0.665 | ACC1 0.569\n",
      "[Pretrain] Epoch 003 | Dataset 2 | Loss 18.3007 | ARI 0.207 | ACC 0.362 | NMI 0.437 | AUC 0.633 | AP 0.651 | ACC1 0.574\n",
      "The best mean AUROC is 0.6625, Epoch 3）\n",
      "Epoch 3\n",
      "Average Loss across all datasets: 19.0809\n",
      "Mean AUC across all datasets: 0.6625 | Best Mean: 0.6625 (Epoch 3)\n",
      "[Pretrain] Epoch 004 | Dataset 0 | Loss 18.3327 | ARI 0.261 | ACC 0.411 | NMI 0.487 | AUC 0.627 | AP 0.645 | ACC1 0.569\n",
      "[Pretrain] Epoch 004 | Dataset 1 | Loss 18.2043 | ARI 0.212 | ACC 0.363 | NMI 0.454 | AUC 0.647 | AP 0.663 | ACC1 0.569\n",
      "[Pretrain] Epoch 004 | Dataset 2 | Loss 18.1932 | ARI 0.218 | ACC 0.365 | NMI 0.443 | AUC 0.667 | AP 0.673 | ACC1 0.596\n",
      "Epoch 4\n",
      "Average Loss across all datasets: 18.2434\n",
      "Mean AUC across all datasets: 0.6471 | Best Mean: 0.6625 (Epoch 3)\n",
      "\n",
      "=== Training Complete ===\n",
      "Best Mean AUC: 0.6625 at Epoch 3\n"
     ]
    }
   ],
   "source": [
    "import os\n",
    "os.chdir(\"/shareN/data8/SwapTmp/fy/Spatial/ARGA-ARVGA/Data/Visium/raw/T-GRAASP/\")\n",
    "from trainer import MultiDataTrainer\n",
    "pretrain_lists = [[d] for d in sp_graph_list[0:3]]\n",
    "\n",
    "multi_trainer = MultiDataTrainer(\n",
    "    model=model,\n",
    "    sp_graph_lists=pretrain_lists,\n",
    "    sc_graph_lists=None,   # 若不用可直接传 []\n",
    "    pretrain_epochs=4,\n",
    "    patience=10,\n",
    "    save_dir='./checkpoints_multi'\n",
    ")\n",
    "\n",
    "best_model_state = multi_trainer.pretrain()\n",
    "# print(\"整体AUC均值最优的一份state_dict:\", best_model_state)"
   ]
  },
  {
   "cell_type": "code",
   "execution_count": null,
   "metadata": {},
   "outputs": [],
   "source": [
    "model.load_state_dict(torch.load('/shareN/data8/SwapTmp/fy/Spatial/ARGA-ARVGA/GBM/Verify/initial_data/result/best_model_knn_y1.pkl'))\n",
    "\n",
    "trainer = Trainer(\n",
    "    device=\"cuda:1\",\n",
    "    model=model,\n",
    "    sp_graph_list=sp_graph_list[2:3],\n",
    "    sc_graph_list=sc_graph_list[2:3],\n",
    "    sp_adj_list=sp_adj_list[2:3]\n",
    "    )\n",
    "\n",
    "best_model_state = trainer.finetune(patience=1000, lr=1e-3, epochs=1500)\n",
    "torch.save(best_model_state,'/shareN/data8/SwapTmp/fy/Spatial/ARGA-ARVGA/GBM/Verify/model/finetuned_best_model_XXG.pkl')"
   ]
  },
  {
   "cell_type": "code",
   "execution_count": null,
   "metadata": {},
   "outputs": [],
   "source": []
  }
 ],
 "metadata": {
  "kernelspec": {
   "display_name": "geometric2",
   "language": "python",
   "name": "python3"
  },
  "language_info": {
   "codemirror_mode": {
    "name": "ipython",
    "version": 3
   },
   "file_extension": ".py",
   "mimetype": "text/x-python",
   "name": "python",
   "nbconvert_exporter": "python",
   "pygments_lexer": "ipython3",
   "version": "3.11.9"
  }
 },
 "nbformat": 4,
 "nbformat_minor": 2
}
