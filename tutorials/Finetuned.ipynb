{
 "cells": [
  {
   "cell_type": "code",
   "execution_count": 1,
   "metadata": {},
   "outputs": [
    {
     "name": "stdout",
     "output_type": "stream",
     "text": [
      "Loading sample Young1 \n",
      "Loading sample Mid1 \n",
      "Loading sample Old1 \n",
      "Loading sample Young2 \n",
      "Loading sample Mid2 \n",
      "Loading sample Old2 \n"
     ]
    }
   ],
   "source": [
    "import os\n",
    "os.chdir(\"/shareN/data8/SwapTmp/fy/Spatial/ARGA-ARVGA/Data/Visium/raw/T-GRAASP/\")\n",
    "import torch\n",
    "from models import STx_ARGVA, STx_encoder, STx_discriminator\n",
    "from utils import *\n",
    "from train import Trainer\n",
    "\n",
    "import warnings\n",
    "from scipy.stats import ConstantInputWarning\n",
    "warnings.filterwarnings(\"ignore\", category=ConstantInputWarning)\n",
    "\n",
    "# sample_ids = ['CAQSC','WYYBT','XXGBT','ZWFBT','ZWJBT']\n",
    "sample_ids = ['Young1','Mid1','Old1','Young2', 'Mid2',  'Old2']\n",
    "# sample_ids = ['Young1']\n",
    "raw_dir = '/shareN/data8/SwapTmp/fy/Spatial/ARGA-ARVGA/Data/Visium/raw'\n",
    "test_ratio = 0.1\n",
    "\n",
    "\n",
    "sp_graph_list, sp_adj_list = SGEDataset(sample_ids, raw_dir, test_ratio=0.10)\n",
    "# sc_graph_list = SGEDataset1(sample_ids, raw_dir)\n",
    "\n",
    "N_nodes   = sp_graph_list[0].x.size(0)   # 节点个数\n",
    "F_inputs  = sp_graph_list[0].x.size(1)   \n",
    "\n",
    "ppi_file     = f'{raw_dir}/PPI1.connect.txt'\n",
    "connectivity = load_ppi_connectivity(ppi_file, F_inputs)    # shape = [2, E]\n",
    "\n",
    "\n"
   ]
  },
  {
   "cell_type": "code",
   "execution_count": 2,
   "metadata": {},
   "outputs": [],
   "source": [
    "encoder = STx_encoder(\n",
    "    in_channels      = F_inputs,        \n",
    "    hidden_channels  = 96,\n",
    "    out_channels     = 16,\n",
    "    m = 29, l = 3, K = 3,\n",
    "    connect = connectivity,        \n",
    "    pi = 0.75,\n",
    "    n_heads = 8,\n",
    "    activate_sc_alignment=False\n",
    ")\n",
    "\n",
    "discriminator = STx_discriminator(\n",
    "    in_channels     = 16,  \n",
    "    hidden_channels = 8,   \n",
    "    out_channels    = 1\n",
    ")\n",
    "\n",
    "model = STx_ARGVA(\n",
    "    encoder      = encoder,\n",
    "    discriminator= discriminator,\n",
    "    l            = 3          \n",
    ")"
   ]
  },
  {
   "cell_type": "code",
   "execution_count": 3,
   "metadata": {},
   "outputs": [
    {
     "name": "stdout",
     "output_type": "stream",
     "text": [
      "\n",
      " Start Fine-tuning Alignment between spatial and scRNA\n",
      "Creating new alignment model...\n",
      "[Finetune] Epoch 001 | Avg Loss: 79.884384 | Avg Align Loss (Train): 79.884384 | Avg Align Loss (Eval): 83.750951 | Avg Corr: nan | Avg AUC: 0.6330\n"
     ]
    }
   ],
   "source": [
    "model.load_state_dict(torch.load('/shareN/data8/SwapTmp/fy/Spatial/ARGA-ARVGA/Data/Visium/raw/T-GRAASP/checkpoints_multi/best_model_auc_mean.pkl'))\n",
    "\n",
    "trainer = Trainer(\n",
    "    device=\"cuda:1\",\n",
    "    model=model,\n",
    "    F_inputs = F_inputs,\n",
    "    sp_graph_list=sp_graph_list[0:3],\n",
    "    sc_graph_list=sp_graph_list[3:6],\n",
    "    sp_adj_list=sp_adj_list[0:3]\n",
    "    )\n",
    "\n",
    "best_model_state = trainer.finetune(patience=1000, lr=1e-3, epochs=5)\n",
    "torch.save(best_model_state,'/shareN/data8/SwapTmp/fy/Spatial/ARGA-ARVGA/Data/Visium/raw/T-GRAASP/checkpoints_multi/finetuned_best_model.pkl')"
   ]
  },
  {
   "cell_type": "code",
   "execution_count": null,
   "metadata": {},
   "outputs": [],
   "source": []
  },
  {
   "cell_type": "code",
   "execution_count": null,
   "metadata": {},
   "outputs": [],
   "source": []
  },
  {
   "cell_type": "code",
   "execution_count": null,
   "metadata": {},
   "outputs": [],
   "source": []
  }
 ],
 "metadata": {
  "kernelspec": {
   "display_name": "geometric2",
   "language": "python",
   "name": "python3"
  },
  "language_info": {
   "codemirror_mode": {
    "name": "ipython",
    "version": 3
   },
   "file_extension": ".py",
   "mimetype": "text/x-python",
   "name": "python",
   "nbconvert_exporter": "python",
   "pygments_lexer": "ipython3",
   "version": "3.11.9"
  }
 },
 "nbformat": 4,
 "nbformat_minor": 2
}
